{
 "cells": [
  {
   "cell_type": "code",
   "execution_count": 6,
   "id": "15f9846c",
   "metadata": {},
   "outputs": [
    {
     "name": "stdout",
     "output_type": "stream",
     "text": [
      "Collecting medpy\n",
      "  Downloading MedPy-0.4.0.tar.gz (151 kB)\n",
      "\u001b[K     |████████████████████████████████| 151 kB 552 kB/s eta 0:00:01\n",
      "\u001b[?25hRequirement already satisfied: scipy>=1.1.0 in /home/ashwani/anaconda3/envs/denoise/lib/python3.9/site-packages (from medpy) (1.7.3)\n",
      "Requirement already satisfied: numpy>=1.11.0 in /home/ashwani/anaconda3/envs/denoise/lib/python3.9/site-packages (from medpy) (1.22.3)\n",
      "Collecting SimpleITK>=1.1.0\n",
      "  Downloading SimpleITK-2.1.1.2-cp39-cp39-manylinux_2_12_x86_64.manylinux2010_x86_64.whl (48.4 MB)\n",
      "\u001b[K     |████████████████████████████████| 48.4 MB 20 kB/s  eta 0:00:01\n",
      "\u001b[?25hBuilding wheels for collected packages: medpy\n",
      "  Building wheel for medpy (setup.py) ... \u001b[?25ldone\n",
      "\u001b[?25h  Created wheel for medpy: filename=MedPy-0.4.0-py3-none-any.whl size=214963 sha256=8776bd0d0baff31c60d8629823b98080aa0fdee3b77dfd9bfd9bb50a149887c2\n",
      "  Stored in directory: /home/ashwani/.cache/pip/wheels/41/46/a2/7c585b78f216a3dd8723dbab5f439822fa5dfbff563757a49e\n",
      "Successfully built medpy\n",
      "Installing collected packages: SimpleITK, medpy\n",
      "Successfully installed SimpleITK-2.1.1.2 medpy-0.4.0\n",
      "Note: you may need to restart the kernel to use updated packages.\n"
     ]
    }
   ],
   "source": [
    "pip install medpy"
   ]
  },
  {
   "cell_type": "code",
   "execution_count": 39,
   "id": "1944bf34",
   "metadata": {
    "scrolled": true
   },
   "outputs": [],
   "source": [
    "import numpy as np\n",
    "from numpy import load\n",
    "import utils\n",
    "import os\n",
    "import copy\n",
    "from skimage import img_as_float\n",
    "\n",
    "import multiprocessing\n",
    "from multiprocessing import Pool\n",
    "# import the builtin time module\n",
    "import time"
   ]
  },
  {
   "cell_type": "code",
   "execution_count": 40,
   "id": "be3f7d1f",
   "metadata": {},
   "outputs": [],
   "source": [
    "PATH = \"../test_files/output/\""
   ]
  },
  {
   "cell_type": "code",
   "execution_count": 41,
   "id": "8b586ae2",
   "metadata": {},
   "outputs": [],
   "source": [
    "t1ce_data = np.load(PATH + \"t1.npz\")['arr_0']"
   ]
  },
  {
   "cell_type": "code",
   "execution_count": 42,
   "id": "2fd5d32e",
   "metadata": {
    "scrolled": true
   },
   "outputs": [
    {
     "data": {
      "text/plain": [
       "(152, 240, 240, 1)"
      ]
     },
     "execution_count": 42,
     "metadata": {},
     "output_type": "execute_result"
    }
   ],
   "source": [
    "t1ce_data.shape"
   ]
  },
  {
   "cell_type": "code",
   "execution_count": 7,
   "id": "d6d4d711",
   "metadata": {},
   "outputs": [],
   "source": [
    "def rician_wholedataset1(dataset, BaseVal, Scale, NumSamples):\n",
    "    data = copy.deepcopy(dataset)\n",
    "    for i in range(data.shape[0]):\n",
    "        data[i, :, :, :] *= 255.0/data[i, :, :, :].max()\n",
    "        noise = np.random.normal(scale=Scale, size=(\n",
    "            NumSamples, 2)) + [[BaseVal, 0]]\n",
    "        noise = np.linalg.norm(noise, axis=1)\n",
    "        data[i, :, :, :] = img_as_float(\n",
    "            data[i, :, :, :]) + noise.reshape(data[i, :, :, :].shape)\n",
    "        data[i, :, :, :] *= 255.0/data[i, :, :, :].max()\n",
    "        data[i] = data[i] / 255.0\n",
    "    return data"
   ]
  },
  {
   "cell_type": "code",
   "execution_count": 13,
   "id": "41072156",
   "metadata": {},
   "outputs": [],
   "source": [
    "def rician_wholedataset2(dataset, BaseVal, Scale, NumSamples):\n",
    "    data = copy.deepcopy(dataset)\n",
    "    noise = np.random.normal(scale=Scale, size=(NumSamples, 2)) + [[BaseVal, 0]]\n",
    "    noise = np.linalg.norm(noise, axis=1)\n",
    "    for i in range(data.shape[0]):\n",
    "        data[i, :, :, :] *= 255.0/data[i, :, :, :].max()\n",
    "        data[i, :, :, :] = img_as_float(data[i, :, :, :]) + noise.reshape(data[i, :, :, :].shape)\n",
    "        data[i, :, :, :] *= 255.0/data[i, :, :, :].max()\n",
    "        data[i] = data[i] / 255.0\n",
    "    return data"
   ]
  },
  {
   "cell_type": "code",
   "execution_count": 16,
   "id": "fc4f2f73",
   "metadata": {},
   "outputs": [],
   "source": [
    "def rician_wholedataset_inplace(data, BaseVal, Scale, NumSamples):\n",
    "    # having it inplace helps a lot\n",
    "    # having this noise thing outside outside helps w speed\n",
    "    noise = np.random.normal(scale=Scale, size=(NumSamples, 2)) + [[BaseVal, 0]]\n",
    "    noise = np.linalg.norm(noise, axis=1)\n",
    "    for i in range(data.shape[0]):\n",
    "        print(data[i, :, :, :].max())\n",
    "        data[i, :, :, :] *= 255.0/data[i, :, :, :].max()\n",
    "        data[i, :, :, :] = img_as_float(data[i, :, :, :]) + noise.reshape(data[i, :, :, :].shape)\n",
    "        print(data[i, :, :, :].max())\n",
    "        data[i, :, :, :] *= 255.0/data[i, :, :, :].max()\n",
    "        data[i] = data[i] / 255.0\n",
    "    return data"
   ]
  },
  {
   "cell_type": "code",
   "execution_count": 8,
   "id": "30032523",
   "metadata": {},
   "outputs": [],
   "source": [
    "def ricianprocess(img, noise):\n",
    "    1img *= 255.0/img.max()\n",
    "    img = img_as_float(img) + noise.reshape(img.shape)\n",
    "    img *= 255.0/img.max()\n",
    "    img = img / 255.0\n",
    "    return img"
   ]
  },
  {
   "cell_type": "code",
   "execution_count": 9,
   "id": "132262bc",
   "metadata": {},
   "outputs": [],
   "source": [
    "def rician_wholedataset(dataset, BaseVal, Scale, NumSamples):\n",
    "    noise = np.random.normal(scale=Scale, size=(\n",
    "            NumSamples, 2)) + [[BaseVal, 0]]\n",
    "    noise = np.linalg.norm(noise, axis=1)\n",
    "    listd = [[dataset[i], noise] for i in  list(range(dataset.shape[0]))] \n",
    "    try:\n",
    "        cpu_count = multiprocessing.cpu_count()\n",
    "        pool = multiprocessing.Pool(processes = cpu_count) \n",
    "        data = pool.starmap(ricianprocess, listd)\n",
    "        data = np.stack(data)\n",
    "    finally:\n",
    "        pool.close()\n",
    "        pool.join()\n",
    "        \n",
    "    return data\n"
   ]
  },
  {
   "cell_type": "code",
   "execution_count": 18,
   "id": "c104e9ff",
   "metadata": {},
   "outputs": [
    {
     "name": "stderr",
     "output_type": "stream",
     "text": [
      "/tmp/ipykernel_179903/1039886119.py:5: RuntimeWarning: divide by zero encountered in double_scalars\n",
      "  data[i, :, :, :] *= 255.0/data[i, :, :, :].max()\n",
      "/tmp/ipykernel_179903/1039886119.py:5: RuntimeWarning: invalid value encountered in multiply\n",
      "  data[i, :, :, :] *= 255.0/data[i, :, :, :].max()\n"
     ]
    },
    {
     "name": "stdout",
     "output_type": "stream",
     "text": [
      "0.6260519027709961\n"
     ]
    }
   ],
   "source": [
    "# Grab Currrent Time Before Running the Code\n",
    "start = time.time()\n",
    "a = rician_wholedataset_inplace(np.zeros((1000,240,240,1)), 5, 3, 240*240)\n",
    "# Grab Currrent Time After Running the Code\n",
    "end = time.time()\n",
    "\n",
    "#Subtract Start Time from The End Time\n",
    "total_time = end - start\n",
    "print(total_time)\n",
    "# a = rician_wholedataset(t1ce_data, 5, 3, 240*240)\n"
   ]
  },
  {
   "cell_type": "code",
   "execution_count": 170,
   "id": "047b7642",
   "metadata": {},
   "outputs": [
    {
     "data": {
      "text/plain": [
       "(1000, 240, 240, 1)"
      ]
     },
     "execution_count": 170,
     "metadata": {},
     "output_type": "execute_result"
    }
   ],
   "source": [
    "a.shape"
   ]
  },
  {
   "cell_type": "code",
   "execution_count": 52,
   "id": "72d24b7b",
   "metadata": {},
   "outputs": [],
   "source": [
    "def rayleigh_wholedataset(data,rand_scale=8,NumSamples=240):\n",
    "    for i in range(data.shape[0]):\n",
    "        raynoise = np.random.rayleigh(rand_scale, NumSamples*NumSamples)\n",
    "        raynoise = raynoise.reshape(NumSamples, NumSamples)\n",
    "        data[i, :, :, :] = img_as_float(data[i, :, :, :]*255) + raynoise.reshape(data[i, :, :, :].shape)\n",
    "        data[i, :, :, :] *= 255.0/data[i, :, :, :].max()\n",
    "        data[i] = data[i] / 255.0\n",
    "    return data"
   ]
  },
  {
   "cell_type": "code",
   "execution_count": 53,
   "id": "dfbb45c2-107b-4373-b64d-135ec9dcd02a",
   "metadata": {},
   "outputs": [],
   "source": [
    "a = rayleigh_wholedataset(np.zeros((1000,240,240,1)))"
   ]
  },
  {
   "cell_type": "code",
   "execution_count": 54,
   "id": "b65f1575-ba6f-46b5-9105-f268e0e686c7",
   "metadata": {},
   "outputs": [
    {
     "name": "stdout",
     "output_type": "stream",
     "text": [
      "2.4239661693573\n"
     ]
    }
   ],
   "source": [
    "start = time.time()\n",
    "a = rayleigh_wholedataset(np.zeros((1000,240,240,1)))\n",
    "# Grab Currrent Time After Running the Code\n",
    "end = time.time()\n",
    "\n",
    "#Subtract Start Time from The End Time\n",
    "total_time = end - start\n",
    "print(total_time)"
   ]
  },
  {
   "cell_type": "code",
   "execution_count": 55,
   "id": "6d903ade-7c85-4409-b5d0-0761b6b895d7",
   "metadata": {},
   "outputs": [],
   "source": [
    "from skimage.metrics import peak_signal_noise_ratio"
   ]
  },
  {
   "cell_type": "code",
   "execution_count": 144,
   "id": "bc84af6f-d815-4ef6-83db-0467f9870b3f",
   "metadata": {},
   "outputs": [],
   "source": [
    "def psnr_wholedataset(dataset_original, dataset_denoised):\n",
    "\n",
    "    avgpsnr = 0\n",
    "    for i in range(dataset_original.shape[0]):\n",
    "        true_min, true_max = np.min(dataset_original[i, :, :, :]), np.max(dataset_original[i, :, :, :])\n",
    "        dataRange = abs(true_min)+abs(true_max)\n",
    "        psnr = peak_signal_noise_ratio(dataset_original[i], dataset_denoised[i], data_range=dataRange)\n",
    "        avgpsnr += psnr\n",
    "        avgpsnr = avgpsnr/2\n",
    "\n",
    "    return avgpsnr"
   ]
  },
  {
   "cell_type": "code",
   "execution_count": null,
   "id": "b6b0cb44-04be-429e-aea7-e5d1b2ffc6d3",
   "metadata": {},
   "outputs": [],
   "source": []
  },
  {
   "cell_type": "code",
   "execution_count": null,
   "id": "9d6cbfdb-8d82-445c-bd10-a3b6d2826a4d",
   "metadata": {},
   "outputs": [],
   "source": [
    "def worker_wrapper(arg):\n",
    "    args = arg[0:2]\n",
    "    kwargs = arg[3]\n",
    "    return"
   ]
  },
  {
   "cell_type": "code",
   "execution_count": 150,
   "id": "44783613-64e7-4ad5-96e4-d46795ecd3da",
   "metadata": {},
   "outputs": [],
   "source": [
    "from itertools import repeat\n",
    "\n",
    "def starmap_with_kwargs(pool, fn, args_iter, kwargs_iter):\n",
    "    args_for_starmap = zip(repeat(fn), args_iter, kwargs_iter)\n",
    "    return pool.starmap(apply_args_and_kwargs, args_for_starmap)\n",
    "\n",
    "def apply_args_and_kwargs(fn, args, kwargs):\n",
    "    return fn(*args, **kwargs)\n",
    "\n",
    "\n",
    "\n",
    "\n",
    "\n",
    "def psnr_wholedataset_pool(dataset_original, dataset_denoised):\n",
    "    true_min, true_max = np.min(dataset_original[i, :, :, :]), np.max(dataset_original[i, :, :, :])\n",
    "    dataRange = abs(true_min)+abs(true_max)\n",
    "    # args_iter = zip(list(unstack(dataset_original,0)), list(unstack(dataset_denoised,0)))\n",
    "    args_iter = zip(list(unstack(dataset_original,0)), list(unstack(dataset_denoised,0)))   \n",
    "    try:\n",
    "        cpu_count = multiprocessing.cpu_count()\n",
    "        pool = multiprocessing.Pool(processes = cpu_count) \n",
    "        kwargs_iter = repeat(dict(data_range=dataRange))\n",
    "        branches = starmap_with_kwargs(pool, peak_signal_noise_ratio , args_iter, kwargs_iter)\n",
    "    finally:\n",
    "        pool.close()\n",
    "        pool.join()\n",
    "\n",
    "    return sum(branches)/dataset_original.shape[0]\n",
    "\n",
    "\n",
    "def psnr_wholedataset_pool1(data):\n",
    "    true_min, true_max = np.min(dataset_original[i, :, :, :]), np.max(dataset_original[i, :, :, :])\n",
    "    dataRange = abs(true_min)+abs(true_max)\n",
    "    args_iter = data \n",
    "    try:\n",
    "        cpu_count = multiprocessing.cpu_count()\n",
    "        pool = multiprocessing.Pool(processes = cpu_count) \n",
    "        kwargs_iter = repeat(dict(data_range=dataRange))\n",
    "        branches = starmap_with_kwargs(pool, peak_signal_noise_ratio , args_iter, kwargs_iter)\n",
    "    finally:\n",
    "        pool.close()\n",
    "        pool.join()\n",
    "\n",
    "    return sum(branches)/dataset_original.shape[0]"
   ]
  },
  {
   "cell_type": "code",
   "execution_count": 151,
   "id": "befebf90-6c4f-4f59-a815-d126cd59d0fc",
   "metadata": {},
   "outputs": [],
   "source": [
    "def unstack(a, axis=0):\n",
    "    return np.moveaxis(a, axis, 0)"
   ]
  },
  {
   "cell_type": "code",
   "execution_count": 152,
   "id": "9c153718-e4eb-4cf3-b2b4-ee0427c71181",
   "metadata": {
    "scrolled": true,
    "tags": []
   },
   "outputs": [
    {
     "name": "stdout",
     "output_type": "stream",
     "text": [
      "1.3364076614379883\n",
      "0.9268815517425537\n",
      "0.5205528736114502\n"
     ]
    }
   ],
   "source": [
    "start = time.time()\n",
    "a = psnr_wholedataset_pool(t1ce_data, utils.rician_wholedataset(t1ce_data, 5,3,240*240))\n",
    "# Grab Currrent Time After Running the Code\n",
    "end = time.time()\n",
    "\n",
    "#Subtract Start Time from The End Time\n",
    "total_time = end - start\n",
    "print(total_time)\n",
    "\n",
    "start = time.time()\n",
    "a = psnr_wholedataset(t1ce_data, utils.rician_wholedataset(t1ce_data, 5,3,240*240))\n",
    "# Grab Currrent Time After Running the Code\n",
    "end = time.time()\n",
    "\n",
    "#Subtract Start Time from The End Time\n",
    "total_time = end - start\n",
    "print(total_time)\n",
    "\n",
    "dataset_original = t1ce_data\n",
    "dataset_denoised = utils.rician_wholedataset(t1ce_data, 5,3,240*240)\n",
    "data = zip(list(unstack(dataset_original,0)), list(unstack(dataset_denoised,0)))\n",
    "start = time.time()\n",
    "a = psnr_wholedataset_pool1(data)\n",
    "# Grab Currrent Time After Running the Code\n",
    "end = time.time()\n",
    "\n",
    "#Subtract Start Time from The End Time\n",
    "total_time = end - start\n",
    "print(total_time)\n",
    "\n"
   ]
  },
  {
   "cell_type": "code",
   "execution_count": 141,
   "id": "0254e39b-b967-4fd6-9319-27981ff46e8e",
   "metadata": {},
   "outputs": [
    {
     "ename": "TypeError",
     "evalue": "_hvdsplit_dispatcher() missing 1 required positional argument: 'indices_or_sections'",
     "output_type": "error",
     "traceback": [
      "\u001b[0;31m---------------------------------------------------------------------------\u001b[0m",
      "\u001b[0;31mTypeError\u001b[0m                                 Traceback (most recent call last)",
      "Input \u001b[0;32mIn [141]\u001b[0m, in \u001b[0;36m<cell line: 2>\u001b[0;34m()\u001b[0m\n\u001b[1;32m      1\u001b[0m d \u001b[38;5;241m=\u001b[39m np\u001b[38;5;241m.\u001b[39mzeros((\u001b[38;5;241m100\u001b[39m,\u001b[38;5;241m256\u001b[39m,\u001b[38;5;241m256\u001b[39m,\u001b[38;5;241m1\u001b[39m))\n\u001b[0;32m----> 2\u001b[0m a \u001b[38;5;241m=\u001b[39m \u001b[43mnp\u001b[49m\u001b[38;5;241;43m.\u001b[39;49m\u001b[43mhsplit\u001b[49m\u001b[43m(\u001b[49m\u001b[43md\u001b[49m\u001b[43m)\u001b[49m\n",
      "File \u001b[0;32m<__array_function__ internals>:179\u001b[0m, in \u001b[0;36mhsplit\u001b[0;34m(*args, **kwargs)\u001b[0m\n",
      "\u001b[0;31mTypeError\u001b[0m: _hvdsplit_dispatcher() missing 1 required positional argument: 'indices_or_sections'"
     ]
    }
   ],
   "source": [
    "d = np.zeros((100,256,256,1))\n",
    "a = np.hsplit(d)"
   ]
  },
  {
   "cell_type": "code",
   "execution_count": 71,
   "id": "4d186e71-e21e-46e7-a065-cac5ad545da9",
   "metadata": {},
   "outputs": [
    {
     "data": {
      "text/plain": [
       "(256, 256, 100)"
      ]
     },
     "execution_count": 71,
     "metadata": {},
     "output_type": "execute_result"
    }
   ],
   "source": [
    "a.shape"
   ]
  },
  {
   "cell_type": "code",
   "execution_count": 72,
   "id": "421a2be1-2d4e-4408-9f14-5cbb32cc68c2",
   "metadata": {},
   "outputs": [],
   "source": []
  },
  {
   "cell_type": "code",
   "execution_count": 81,
   "id": "a310a22c-2d01-49a1-b917-c15531e050be",
   "metadata": {},
   "outputs": [
    {
     "data": {
      "text/plain": [
       "100"
      ]
     },
     "execution_count": 81,
     "metadata": {},
     "output_type": "execute_result"
    }
   ],
   "source": [
    "list(unstack(d, 0)"
   ]
  },
  {
   "cell_type": "code",
   "execution_count": 85,
   "id": "f6539993-409f-456f-9f0f-533264350fa6",
   "metadata": {},
   "outputs": [
    {
     "name": "stdout",
     "output_type": "stream",
     "text": [
      "1 4\n",
      "2 5\n",
      "3 6\n"
     ]
    }
   ],
   "source": [
    "for i,j in zip([1,2,3],[4,5,6]):\n",
    "    print(i,j)"
   ]
  },
  {
   "cell_type": "code",
   "execution_count": null,
   "id": "d15c9ef4-6ed5-49d0-a441-f0396f6e8194",
   "metadata": {},
   "outputs": [],
   "source": [
    "def rician_wholedataset(dataset, BaseVal, Scale, NumSamples):\n",
    "    noise = np.random.normal(scale=Scale, size=(\n",
    "            NumSamples, 2)) + [[BaseVal, 0]]\n",
    "    noise = np.linalg.norm(noise, axis=1)\n",
    "    listd = [[dataset[i], noise] for i in  list(range(dataset.shape[0]))] \n",
    "    try:\n",
    "        cpu_count = multiprocessing.cpu_count()\n",
    "        pool = multiprocessing.Pool(processes = cpu_count) \n",
    "        data = pool.starmap(ricianprocess, listd)\n",
    "        data = np.stack(data)\n",
    "    finally:\n",
    "        pool.close()\n",
    "        pool.join()\n",
    "        \n",
    "    return data\n"
   ]
  },
  {
   "cell_type": "code",
   "execution_count": 106,
   "id": "e2771112-6907-4a8e-9b2c-caa29b04940d",
   "metadata": {},
   "outputs": [
    {
     "ename": "SyntaxError",
     "evalue": "invalid syntax (2946256202.py, line 1)",
     "output_type": "error",
     "traceback": [
      "\u001b[0;36m  Input \u001b[0;32mIn [106]\u001b[0;36m\u001b[0m\n\u001b[0;31m    **kwargs = dict(das= 1)\u001b[0m\n\u001b[0m    ^\u001b[0m\n\u001b[0;31mSyntaxError\u001b[0m\u001b[0;31m:\u001b[0m invalid syntax\n"
     ]
    }
   ],
   "source": [
    "**kwargs = dict(das= 1)\n",
    "args , kwargs = (1,kwargs)\n"
   ]
  },
  {
   "cell_type": "code",
   "execution_count": 111,
   "id": "0146ec89-dc69-4bbb-ad80-c447df1768e7",
   "metadata": {},
   "outputs": [],
   "source": [
    "from multiprocessing import Pool"
   ]
  },
  {
   "cell_type": "code",
   "execution_count": 112,
   "id": "36a5b87a-2e30-48ae-ba7a-10384e60eb95",
   "metadata": {},
   "outputs": [],
   "source": [
    "cpu_count = multiprocessing.cpu_count()\n",
    "pool = multiprocessing.Pool(processes = cpu_count) "
   ]
  },
  {
   "cell_type": "code",
   "execution_count": 116,
   "id": "4643e49d-21e3-4191-9d23-796ad86be9c8",
   "metadata": {},
   "outputs": [],
   "source": [
    "from itertools import repeat\n",
    "\n",
    "def starmap_with_kwargs(pool, fn, args_iter, kwargs_iter):\n",
    "    args_for_starmap = zip(repeat(fn), args_iter, kwargs_iter)\n",
    "    return pool.starmap(apply_args_and_kwargs, args_for_starmap)\n",
    "\n",
    "def apply_args_and_kwargs(fn, args, kwargs):\n",
    "    return fn(*args, **kwargs)\n",
    "\n",
    "\n",
    "args_iter = zip(list(unstack(t1ce_data,0)), list(unstack(t1ce_data,0)))\n",
    "kwargs_iter = repeat(dict(data_range=255))\n",
    "branches = starmap_with_kwargs(pool, peak_signal_noise_ratio , args_iter, kwargs_iter)\n"
   ]
  },
  {
   "cell_type": "code",
   "execution_count": 154,
   "id": "64cf0ac4-4c3d-4b0c-8a97-b139dbeb4253",
   "metadata": {},
   "outputs": [
    {
     "ename": "TypeError",
     "evalue": "'zip' object is not subscriptable",
     "output_type": "error",
     "traceback": [
      "\u001b[0;31m---------------------------------------------------------------------------\u001b[0m",
      "\u001b[0;31mTypeError\u001b[0m                                 Traceback (most recent call last)",
      "Input \u001b[0;32mIn [154]\u001b[0m, in \u001b[0;36m<cell line: 1>\u001b[0;34m()\u001b[0m\n\u001b[0;32m----> 1\u001b[0m \u001b[38;5;28;43mzip\u001b[39;49m\u001b[43m(\u001b[49m\u001b[43m[\u001b[49m\u001b[38;5;241;43m2\u001b[39;49m\u001b[43m,\u001b[49m\u001b[38;5;241;43m3\u001b[39;49m\u001b[43m]\u001b[49m\u001b[43m,\u001b[49m\u001b[43m[\u001b[49m\u001b[38;5;241;43m3\u001b[39;49m\u001b[43m,\u001b[49m\u001b[38;5;241;43m4\u001b[39;49m\u001b[43m]\u001b[49m\u001b[43m)\u001b[49m\u001b[43m[\u001b[49m\u001b[38;5;241;43m0\u001b[39;49m\u001b[43m]\u001b[49m\n",
      "\u001b[0;31mTypeError\u001b[0m: 'zip' object is not subscriptable"
     ]
    }
   ],
   "source": [
    "zip([2,3],[3,4])"
   ]
  },
  {
   "cell_type": "code",
   "execution_count": null,
   "id": "3c5d9c2b-e586-42b9-9e2f-39572a045a10",
   "metadata": {},
   "outputs": [],
   "source": []
  }
 ],
 "metadata": {
  "kernelspec": {
   "display_name": "Python 3",
   "language": "python",
   "name": "python3"
  },
  "language_info": {
   "codemirror_mode": {
    "name": "ipython",
    "version": 3
   },
   "file_extension": ".py",
   "mimetype": "text/x-python",
   "name": "python",
   "nbconvert_exporter": "python",
   "pygments_lexer": "ipython3",
   "version": "3.9.12"
  }
 },
 "nbformat": 4,
 "nbformat_minor": 5
}

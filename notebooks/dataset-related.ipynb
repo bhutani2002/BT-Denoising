{
 "cells": [
  {
   "cell_type": "code",
   "execution_count": 157,
   "id": "d7d3ef99",
   "metadata": {},
   "outputs": [],
   "source": [
    "#### So we need input data first which we hv in nii\n",
    "\n",
    "import os\n",
    "import natsort\n",
    "import numpy as np\n",
    "import nibabel as nib\n",
    "from numpy import savez, load\n",
    "\n",
    "import multiprocessing\n",
    "from multiprocessing import Pool"
   ]
  },
  {
   "cell_type": "code",
   "execution_count": 9,
   "id": "5ae1c374",
   "metadata": {},
   "outputs": [],
   "source": [
    "TRAIN_DATASET_PATH = \"../test_files/image_3d/\"\n",
    "\n",
    "test_image_flair=nib.load(TRAIN_DATASET_PATH +'testimg_3d_flair.nii').get_fdata()\n",
    "test_image_t1=nib.load(TRAIN_DATASET_PATH +'testimg_3d_t1.nii').get_fdata()\n",
    "test_image_t1ce=nib.load(TRAIN_DATASET_PATH +'testimg_3d_t1ce.nii').get_fdata()\n",
    "test_image_seg=nib.load(TRAIN_DATASET_PATH +'testimg_3d_seg.nii').get_fdata()\n",
    "test_image_t2=nib.load(TRAIN_DATASET_PATH +'testimg_3d_t2.nii').get_fdata()"
   ]
  },
  {
   "cell_type": "code",
   "execution_count": 10,
   "id": "cb4e62f6",
   "metadata": {
    "scrolled": true
   },
   "outputs": [
    {
     "name": "stdout",
     "output_type": "stream",
     "text": [
      "(240, 240, 155)\n",
      "float64\n"
     ]
    }
   ],
   "source": [
    "print(test_image_flair.shape)\n",
    "print(test_image_flair.dtype)"
   ]
  },
  {
   "cell_type": "code",
   "execution_count": 264,
   "id": "70d62aa3",
   "metadata": {},
   "outputs": [],
   "source": [
    "def findminmaxidx(seg, num):\n",
    "    front = 0\n",
    "    end = 155\n",
    "    for i in range(155):\n",
    "        if np.sum(seg[:,:,i]>0) > num:\n",
    "            front = i\n",
    "            break\n",
    "\n",
    "    for i in range(155):\n",
    "        if np.sum(seg[:,:,154-i]>0) > num:\n",
    "            end = 154 - i\n",
    "            break\n",
    "    return range(front, end)\n",
    "\n",
    "def singledir(path):\n",
    "    \n",
    "    size = 200\n",
    "    imgList = natsort.natsorted(os.listdir(path))\n",
    "    # auto detect the names\n",
    "    flair =  nib.load(path + \"/\" + imgList[0]).get_fdata().astype(np.float32)\n",
    "    seg = nib.load(path + \"/\" +imgList[1]).get_fdata().astype(np.float32)\n",
    "    t1 =  nib.load(path + \"/\" +imgList[2]).get_fdata().astype(np.float32)\n",
    "    t1ce =  nib.load(path + \"/\" + imgList[3]).get_fdata().astype(np.float32)\n",
    "    t2 =  nib.load(path + \"/\" +imgList[4]).get_fdata().astype(np.float32)\n",
    "    res = findminmaxidx(seg, size)\n",
    "    \n",
    "    \n",
    "    flair = np.rollaxis(flair, 2,1).reshape(155,240, 240, 1)[res]\n",
    "    seg = np.rollaxis(seg, 2,1).reshape(155,240, 240, 1)[res]\n",
    "    t1 = np.rollaxis(t1, 2,1).reshape(155,240, 240, 1)[res]\n",
    "    t1ce = np.rollaxis(t1ce, 2,1).reshape(155,240, 240, 1)[res]\n",
    "    t2 = np.rollaxis(t2, 2,1).reshape(155,240, 240, 1)[res]\n",
    "    return  t1, t1ce, flair, t2, seg\n",
    "    "
   ]
  },
  {
   "cell_type": "code",
   "execution_count": 269,
   "id": "70c3601c",
   "metadata": {},
   "outputs": [
    {
     "name": "stdout",
     "output_type": "stream",
     "text": [
      "['patient_1', 'patient_2']\n"
     ]
    }
   ],
   "source": [
    "def createdataset(PATH, OUTPUT_PATH, numpatients=1, npzmode=True):\n",
    "    dirList = natsort.natsorted(os.listdir(PATH))[0:numpatients]\n",
    "    dirPaths = [os.path.join(PATH + i) for i in dirList]\n",
    "    \n",
    "    IMG_WIDTH = 240\n",
    "    IMG_HEIGHT = 240 \n",
    "    DIMS = 1\n",
    "    \n",
    "    t1 = np.zeros((0,IMG_WIDTH, IMG_HEIGHT, DIMS))\n",
    "    t1ce = np.zeros((0,IMG_WIDTH, IMG_HEIGHT, DIMS))\n",
    "    flair = np.zeros((0,IMG_WIDTH, IMG_HEIGHT, DIMS))\n",
    "    t2= np.zeros((0,IMG_WIDTH, IMG_HEIGHT, DIMS))\n",
    "    seg = np.zeros((0,IMG_WIDTH, IMG_HEIGHT, DIMS))\n",
    "    \n",
    "    try:\n",
    "        # Setup multiprocessing pool\n",
    "        cpu_count = multiprocessing.cpu_count()\n",
    "        pool = multiprocessing.Pool(processes = cpu_count)  \n",
    "        for data  in pool.map(singledir, dirPaths):\n",
    "            t1 = np.concatenate((t1,data[0]))\n",
    "            t1ce = np.concatenate((t1ce,data[1]))\n",
    "            flair = np.concatenate((flair,data[2]))\n",
    "            t2 = np.concatenate((t2,data[3]))\n",
    "            seg = np.concatenate((seg,data[4]))\n",
    "\n",
    "    finally:\n",
    "        pool.close()\n",
    "        pool.join()\n",
    "\n",
    "    # make sure to create a directory if it doesn't exist, errors out here\n",
    "    if npzmode == True:\n",
    "        np.savez(OUTPUT_PATH + \"t1.npz\", t1)\n",
    "        np.savez(OUTPUT_PATH + \"t1ce.npz\", t1ce)\n",
    "        np.savez(OUTPUT_PATH + \"flair.npz\", flair)\n",
    "        np.savez(OUTPUT_PATH + \"t2.npz\", t2)\n",
    "        np.savez(OUTPUT_PATH + \"seg.npz\", seg)\n",
    "        return 0 \n",
    "    else:\n",
    "        return {\"t1\": t1,\"t1ce\": t1ce,\"flair\": flair, \"t2\": t2, \"seg\": seg}\n",
    "    \n",
    "    return -1\n",
    "    \n",
    "PATH = \"../test_files/dataset/\"\n",
    "OUTPUT_PATH = \"../test_files/output/\"\n",
    "d = createdataset(PATH, OUTPUT_PATH, 2, True)"
   ]
  },
  {
   "cell_type": "code",
   "execution_count": null,
   "id": "4bf4d8a4",
   "metadata": {},
   "outputs": [],
   "source": []
  },
  {
   "cell_type": "code",
   "execution_count": 161,
   "id": "5bf95343",
   "metadata": {},
   "outputs": [],
   "source": [
    "PATH=\"../test_files/image_3d/\"\n",
    "imgList = natsort.natsorted(os.listdir(PATH))"
   ]
  },
  {
   "cell_type": "code",
   "execution_count": 162,
   "id": "2d5bca5d",
   "metadata": {
    "scrolled": true
   },
   "outputs": [
    {
     "name": "stdout",
     "output_type": "stream",
     "text": [
      "[(0, 'testimg_3d_flair.nii'), (1, 'testimg_3d_seg.nii'), (2, 'testimg_3d_t1.nii'), (3, 'testimg_3d_t1ce.nii'), (4, 'testimg_3d_t2.nii')]\n"
     ]
    }
   ],
   "source": [
    "info = [(name,index) for name,index in enumerate(imgList)]\n",
    "print(info)"
   ]
  },
  {
   "cell_type": "code",
   "execution_count": 163,
   "id": "a444506a",
   "metadata": {
    "scrolled": true
   },
   "outputs": [
    {
     "name": "stdout",
     "output_type": "stream",
     "text": [
      "(240, 240)\n",
      "(240, 240)\n",
      "(240, 240)\n",
      "(240, 240)\n",
      "(240, 240)\n"
     ]
    }
   ],
   "source": [
    "def processimg(info):\n",
    "    img = nib.load(TRAIN_DATASET_PATH + info[1]).get_fdata()\n",
    "    return info[0], img[:,:,0]\n",
    "\n",
    "try:\n",
    "    # Setup multiprocessing pool\n",
    "    cpu_count = multiprocessing.cpu_count()\n",
    "    pool = multiprocessing.Pool(processes = cpu_count)  \n",
    "    for idx,img  in pool.map(processimg, info):\n",
    "        print(img.shape)\n",
    "\n",
    "finally:\n",
    "    pool.close()\n",
    "    pool.join()\n"
   ]
  },
  {
   "cell_type": "code",
   "execution_count": 76,
   "id": "96eae846",
   "metadata": {},
   "outputs": [
    {
     "data": {
      "text/plain": [
       "(4, 'testimg_3d_seg.nii')"
      ]
     },
     "execution_count": 76,
     "metadata": {},
     "output_type": "execute_result"
    }
   ],
   "source": [
    "info[4]"
   ]
  },
  {
   "cell_type": "code",
   "execution_count": 252,
   "id": "65127203",
   "metadata": {},
   "outputs": [
    {
     "data": {
      "text/plain": [
       "(76, 240, 240, 1)"
      ]
     },
     "execution_count": 252,
     "metadata": {},
     "output_type": "execute_result"
    }
   ],
   "source": [
    "\n",
    "res = singledir(\"../test_files/image_3d/\")\n"
   ]
  },
  {
   "cell_type": "code",
   "execution_count": 263,
   "id": "bf8f1b91",
   "metadata": {},
   "outputs": [
    {
     "data": {
      "text/plain": [
       "dtype('float64')"
      ]
     },
     "execution_count": 263,
     "metadata": {},
     "output_type": "execute_result"
    }
   ],
   "source": [
    "res[3].dtype"
   ]
  },
  {
   "cell_type": "code",
   "execution_count": 216,
   "id": "b3edd498",
   "metadata": {},
   "outputs": [],
   "source": [
    "d = np.reshape(res[0], (76, 240,240))"
   ]
  },
  {
   "cell_type": "code",
   "execution_count": 229,
   "id": "ec6786bc",
   "metadata": {},
   "outputs": [
    {
     "ename": "SyntaxError",
     "evalue": "invalid syntax (1212803653.py, line 1)",
     "output_type": "error",
     "traceback": [
      "\u001b[0;36m  Input \u001b[0;32mIn [229]\u001b[0;36m\u001b[0m\n\u001b[0;31m    d[-1;:,:].shape;\u001b[0m\n\u001b[0m        ^\u001b[0m\n\u001b[0;31mSyntaxError\u001b[0m\u001b[0;31m:\u001b[0m invalid syntax\n"
     ]
    }
   ],
   "source": [
    "d[-1;:,:].shape;"
   ]
  },
  {
   "cell_type": "code",
   "execution_count": 234,
   "id": "84b4e67f",
   "metadata": {},
   "outputs": [
    {
     "data": {
      "text/plain": [
       "(76, 240, 240)"
      ]
     },
     "execution_count": 234,
     "metadata": {},
     "output_type": "execute_result"
    }
   ],
   "source": [
    "np.rollaxis(d,2,1).shape"
   ]
  },
  {
   "cell_type": "code",
   "execution_count": 217,
   "id": "7c7a68a4",
   "metadata": {},
   "outputs": [
    {
     "data": {
      "text/plain": [
       "<matplotlib.image.AxesImage at 0x7ff8684ba730>"
      ]
     },
     "execution_count": 217,
     "metadata": {},
     "output_type": "execute_result"
    },
    {
     "data": {
      "image/png": "[encoded data removed]",
      "text/plain": [
       "<Figure size 432x288 with 1 Axes>"
      ]
     },
     "metadata": {
      "needs_background": "light"
     },
     "output_type": "display_data"
    }
   ],
   "source": [
    "plt.imshow(d[16])"
   ]
  },
  {
   "cell_type": "code",
   "execution_count": 81,
   "id": "a5fe4238",
   "metadata": {},
   "outputs": [],
   "source": [
    "seg = nib.load(TRAIN_DATASET_PATH + info[4][1]).get_fdata()"
   ]
  },
  {
   "cell_type": "code",
   "execution_count": 178,
   "id": "20c27735",
   "metadata": {},
   "outputs": [],
   "source": [
    "a = np.zeros((100,256,256,1))\n",
    "b = np.zeros((150,256,256,1))"
   ]
  },
  {
   "cell_type": "code",
   "execution_count": 179,
   "id": "981542a5",
   "metadata": {},
   "outputs": [
    {
     "data": {
      "text/plain": [
       "(250, 256, 256, 1)"
      ]
     },
     "execution_count": 179,
     "metadata": {},
     "output_type": "execute_result"
    }
   ],
   "source": [
    "np.concatenate((a,b)).shape"
   ]
  },
  {
   "cell_type": "code",
   "execution_count": 176,
   "id": "9d0f8019",
   "metadata": {},
   "outputs": [],
   "source": [
    "?np.hstack"
   ]
  },
  {
   "cell_type": "code",
   "execution_count": 180,
   "id": "a27790cc",
   "metadata": {},
   "outputs": [],
   "source": [
    "a = np.zeros((00,256,256,1))"
   ]
  },
  {
   "cell_type": "code",
   "execution_count": 183,
   "id": "488a5707",
   "metadata": {},
   "outputs": [
    {
     "data": {
      "text/plain": [
       "(150, 256, 256, 1)"
      ]
     },
     "execution_count": 183,
     "metadata": {},
     "output_type": "execute_result"
    }
   ],
   "source": [
    "np.concatenate((a,b)).shape"
   ]
  },
  {
   "cell_type": "code",
   "execution_count": null,
   "id": "dbd95816",
   "metadata": {},
   "outputs": [],
   "source": []
  }
 ],
 "metadata": {
  "kernelspec": {
   "display_name": "Python 3",
   "language": "python",
   "name": "python3"
  },
  "language_info": {
   "codemirror_mode": {
    "name": "ipython",
    "version": 3
   },
   "file_extension": ".py",
   "mimetype": "text/x-python",
   "name": "python",
   "nbconvert_exporter": "python",
   "pygments_lexer": "ipython3",
   "version": "3.9.12"
  }
 },
 "nbformat": 4,
 "nbformat_minor": 5
}

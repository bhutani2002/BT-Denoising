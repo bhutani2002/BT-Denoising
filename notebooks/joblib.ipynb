{
 "cells": [
  {
   "cell_type": "code",
   "execution_count": 1,
   "id": "2226046a-594c-4928-aeec-1132e7f69cf9",
   "metadata": {},
   "outputs": [
    {
     "name": "stdout",
     "output_type": "stream",
     "text": [
      "Requirement already satisfied: joblib in /home/ashwani/anaconda3/envs/denoise/lib/python3.9/site-packages (1.1.0)\n",
      "Note: you may need to restart the kernel to use updated packages.\n"
     ]
    }
   ],
   "source": [
    "pip install joblib"
   ]
  },
  {
   "cell_type": "code",
   "execution_count": 2,
   "id": "dc6bf614-0eec-4e7d-9347-196df6f3f4eb",
   "metadata": {},
   "outputs": [],
   "source": [
    "from joblib import Parallel, delayed\n",
    "import time, math\n",
    "def my_fun(i):\n",
    "    \"\"\" We define a simple function here.\n",
    "    \"\"\"\n",
    "    time.sleep(1)\n",
    "    return math.sqrt(i**2)"
   ]
  },
  {
   "cell_type": "code",
   "execution_count": 10,
   "id": "c94c6aca-62eb-4135-b878-020f301c1d4f",
   "metadata": {},
   "outputs": [
    {
     "name": "stdout",
     "output_type": "stream",
     "text": [
      "2.6190 s\n"
     ]
    }
   ],
   "source": [
    "num = 10\n",
    "start = time.time()\n",
    "# n_jobs is the number of parallel jobs\n",
    "a = Parallel(n_jobs=8)(delayed(my_fun)(i) for i in range(num))\n",
    "end = time.time()\n",
    "print('{:.4f} s'.format(end-start))"
   ]
  },
  {
   "cell_type": "code",
   "execution_count": 6,
   "id": "cd9c0dfe-ed47-47b1-87c6-fa862676802d",
   "metadata": {},
   "outputs": [
    {
     "data": {
      "text/plain": [
       "[0.0, 1.0, 2.0, 3.0, 4.0, 5.0, 6.0, 7.0, 8.0, 9.0]"
      ]
     },
     "execution_count": 6,
     "metadata": {},
     "output_type": "execute_result"
    }
   ],
   "source": [
    "a"
   ]
  },
  {
   "cell_type": "code",
   "execution_count": null,
   "id": "c687f46b-7f07-4fb9-b530-9b2e3419beee",
   "metadata": {},
   "outputs": [],
   "source": []
  }
 ],
 "metadata": {
  "kernelspec": {
   "display_name": "Python 3",
   "language": "python",
   "name": "python3"
  },
  "language_info": {
   "codemirror_mode": {
    "name": "ipython",
    "version": 3
   },
   "file_extension": ".py",
   "mimetype": "text/x-python",
   "name": "python",
   "nbconvert_exporter": "python",
   "pygments_lexer": "ipython3",
   "version": "3.9.12"
  }
 },
 "nbformat": 4,
 "nbformat_minor": 5
}
